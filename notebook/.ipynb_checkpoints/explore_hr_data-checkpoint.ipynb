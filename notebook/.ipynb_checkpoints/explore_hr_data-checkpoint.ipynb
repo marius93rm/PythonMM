{
 "cells": [
  {
   "cell_type": "markdown",
   "id": "ff511797",
   "metadata": {},
   "source": [
    "\n",
    "# Esplorazione dataset HR (employees, salaries, performance)\n",
    "\n",
    "In questo notebook useremo **Pandas** per:\n",
    "- Importare i CSV dalla cartella `data/`\n",
    "- Esplorare le prime righe e i tipi di dato\n",
    "- Verificare valori mancanti\n",
    "- Fare un merge dei dataset\n",
    "- Creare colonne derivate\n",
    "- Filtrare e ordinare i dati\n",
    "- Calcolare statistiche descrittive e aggregazioni\n",
    "\n",
    "---\n"
   ]
  },
  {
   "cell_type": "markdown",
   "id": "cb2c463d",
   "metadata": {},
   "source": [
    "## 1. Import delle librerie"
   ]
  },
  {
   "cell_type": "code",
   "execution_count": null,
   "id": "00b09731",
   "metadata": {},
   "outputs": [],
   "source": [
    "\n",
    "import pandas as pd\n"
   ]
  },
  {
   "cell_type": "markdown",
   "id": "d41e4702",
   "metadata": {},
   "source": [
    "## 2. Caricamento dei CSV"
   ]
  },
  {
   "cell_type": "code",
   "execution_count": null,
   "id": "1d4a7bb6",
   "metadata": {},
   "outputs": [],
   "source": [
    "\n",
    "# Percorsi relativi: data/ deve essere nella stessa root del notebook\n",
    "employees = pd.read_csv(\"data/employees.csv\", parse_dates=[\"hire_date\"])\n",
    "salaries  = pd.read_csv(\"data/salaries.csv\")\n",
    "performance = pd.read_csv(\"data/performance.csv\")\n",
    "\n",
    "# Controlliamo le prime righe di ciascun DataFrame\n",
    "employees.head()\n"
   ]
  },
  {
   "cell_type": "code",
   "execution_count": null,
   "id": "c964e030",
   "metadata": {},
   "outputs": [],
   "source": [
    "\n",
    "salaries.head()\n"
   ]
  },
  {
   "cell_type": "code",
   "execution_count": null,
   "id": "e55f6588",
   "metadata": {},
   "outputs": [],
   "source": [
    "\n",
    "performance.head()\n"
   ]
  },
  {
   "cell_type": "markdown",
   "id": "a4c4230b",
   "metadata": {},
   "source": [
    "## 3. Ispezione dei dataset"
   ]
  },
  {
   "cell_type": "code",
   "execution_count": null,
   "id": "dda0ec14",
   "metadata": {},
   "outputs": [],
   "source": [
    "\n",
    "# Info generali (tipi di dato, valori non nulli)\n",
    "employees.info()\n"
   ]
  },
  {
   "cell_type": "code",
   "execution_count": null,
   "id": "92aee301",
   "metadata": {},
   "outputs": [],
   "source": [
    "\n",
    "salaries.info()\n"
   ]
  },
  {
   "cell_type": "code",
   "execution_count": null,
   "id": "96ead261",
   "metadata": {},
   "outputs": [],
   "source": [
    "\n",
    "performance.info()\n"
   ]
  },
  {
   "cell_type": "code",
   "execution_count": null,
   "id": "bec8315e",
   "metadata": {},
   "outputs": [],
   "source": [
    "\n",
    "# Shape = (righe, colonne)\n",
    "employees.shape, salaries.shape, performance.shape\n"
   ]
  },
  {
   "cell_type": "code",
   "execution_count": null,
   "id": "5398aabe",
   "metadata": {},
   "outputs": [],
   "source": [
    "\n",
    "# Valori mancanti per colonna\n",
    "employees.isna().sum()\n"
   ]
  },
  {
   "cell_type": "markdown",
   "id": "ce46d210",
   "metadata": {},
   "source": [
    "## 4. Merge dei dataset"
   ]
  },
  {
   "cell_type": "code",
   "execution_count": null,
   "id": "01977c57",
   "metadata": {},
   "outputs": [],
   "source": [
    "\n",
    "# Uniamo employees + salaries (left join su employee_id)\n",
    "emp_sal = pd.merge(employees, salaries, on=\"employee_id\", how=\"left\")\n",
    "\n",
    "# Aggiungiamo performance (ancora su employee_id)\n",
    "df_full = pd.merge(emp_sal, performance, on=\"employee_id\", how=\"left\")\n",
    "\n",
    "df_full.head()\n"
   ]
  },
  {
   "cell_type": "markdown",
   "id": "5290d505",
   "metadata": {},
   "source": [
    "## 5. Operazioni base"
   ]
  },
  {
   "cell_type": "code",
   "execution_count": null,
   "id": "2716d796",
   "metadata": {},
   "outputs": [],
   "source": [
    "\n",
    "# Creiamo una colonna derivata: compenso totale = base_salary + bonus\n",
    "df_full[\"total_comp\"] = df_full[\"base_salary\"] + df_full[\"bonus\"]\n",
    "\n",
    "# Filtriamo i dipendenti con rating >= 4.0\n",
    "high_perf = df_full[df_full[\"rating\"] >= 4.0]\n",
    "\n",
    "high_perf[[\"first_name\", \"last_name\", \"department\", \"rating\", \"total_comp\"]]\n"
   ]
  },
  {
   "cell_type": "markdown",
   "id": "d73f022b",
   "metadata": {},
   "source": [
    "## 6. Statistiche descrittive"
   ]
  },
  {
   "cell_type": "code",
   "execution_count": null,
   "id": "4ab51afb",
   "metadata": {},
   "outputs": [],
   "source": [
    "\n",
    "# Statistiche numeriche generali\n",
    "df_full.describe()\n"
   ]
  },
  {
   "cell_type": "code",
   "execution_count": null,
   "id": "e9959848",
   "metadata": {},
   "outputs": [],
   "source": [
    "\n",
    "# Media stipendi per reparto\n",
    "df_full.groupby(\"department\")[\"base_salary\"].mean()\n"
   ]
  },
  {
   "cell_type": "code",
   "execution_count": null,
   "id": "937d359b",
   "metadata": {},
   "outputs": [],
   "source": [
    "\n",
    "# Conteggio dei ruoli\n",
    "df_full[\"role\"].value_counts()\n"
   ]
  },
  {
   "cell_type": "markdown",
   "id": "a6a4de13",
   "metadata": {},
   "source": [
    "## 7. Ordinamento"
   ]
  },
  {
   "cell_type": "code",
   "execution_count": null,
   "id": "4b4e3c59",
   "metadata": {},
   "outputs": [],
   "source": [
    "\n",
    "# I 5 dipendenti con compenso totale più alto\n",
    "df_full.sort_values(\"total_comp\", ascending=False).head()\n"
   ]
  },
  {
   "cell_type": "markdown",
   "id": "9a8bc8e1",
   "metadata": {},
   "source": [
    "\n",
    "---\n",
    "### Conclusione\n",
    "Abbiamo visto come:\n",
    "- Importare CSV in Pandas\n",
    "- Esplorare righe, colonne e tipi\n",
    "- Verificare valori mancanti\n",
    "- Fare un merge fra dataset\n",
    "- Creare colonne derivate\n",
    "- Filtrare e ordinare i dati\n",
    "- Calcolare statistiche e aggregazioni\n",
    "\n",
    "Questo è il punto di partenza per analisi HR più complesse 🚀\n"
   ]
  }
 ],
 "metadata": {},
 "nbformat": 4,
 "nbformat_minor": 5
}
