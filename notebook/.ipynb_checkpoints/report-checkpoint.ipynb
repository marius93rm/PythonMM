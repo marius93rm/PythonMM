{
 "cells": [
  {
   "cell_type": "markdown",
   "id": "bfde6c4a",
   "metadata": {},
   "source": [
    "# Introduzione a Jupyter Notebook\n",
    "\n",
    "Jupyter Notebook è un'applicazione *open source* che permette di creare e condividere documenti contenenti codice, testo, grafici e altri elementi multimediali. È particolarmente utile per l'analisi dei dati, la scienza, l'apprendimento automatico e per qualsiasi attività che richieda di combinare codice eseguibile e descrizioni narrative. I notebook possono essere eseguiti nel browser web e supportano molte lingue di programmazione, tra cui Python, R, Julia e altre."
   ]
  },
  {
   "cell_type": "markdown",
   "id": "a8decea7",
   "metadata": {},
   "source": [
    "## Che cos'è Jupyter Notebook\n",
    "\n",
    "Jupyter Notebook (noto anche come *Notebook classico*) è un ambiente web in cui è possibile scrivere ed eseguire codice in tempo reale. Ogni notebook è composto da celle: le celle di **codice** eseguono istruzioni e mostrano l'output subito sotto, mentre le celle di **testo** (Markdown) contengono spiegazioni, formule, immagini o link. Questa combinazione permette di documentare il processo di analisi e di condividere i risultati in un unico file facilmente leggibile.\n",
    "\n",
    "Un notebook può essere visualizzato e condiviso tramite servizi come GitHub, e-mail o servizi cloud. Supporta il rendering di output interattivi, grafici, video e persino formule LaTeX. Grazie a questa versatilità è molto diffuso nella comunità scientifica e nei corsi universitari."
   ]
  },
  {
   "cell_type": "markdown",
   "id": "49f050fa",
   "metadata": {},
   "source": [
    "## Vantaggi di Jupyter Notebook\n",
    "\n",
    "L'uso di Jupyter Notebook presenta numerosi vantaggi per chi programma in Python e in altri linguaggi:\n",
    "\n",
    "- **Computazione interattiva:** puoi eseguire il codice cella per cella, vedere immediatamente il risultato e modificare le istruzioni in modo iterativo.\n",
    "- **Visualizzazione dei dati:** integrandosi con librerie come Matplotlib, Seaborn o Plotly, permette di creare grafici direttamente nel notebook.\n",
    "- **Documentazione e riproducibilità:** grazie al supporto del Markdown e di LaTeX, è possibile documentare chiaramente ogni passaggio. Questo facilita la riproducibilità degli esperimenti e la creazione di tutorial.\n",
    "- **Collaborazione e condivisione:** i notebook possono essere salvati come file `.ipynb` e condivisi tramite GitHub, Dropbox o allegati e-mail; altri possono ripetere l'esecuzione o modificare il codice.\n",
    "- **Portabilità ed estensibilità:** essendo basato sul web, un notebook può essere eseguito su qualsiasi dispositivo con un browser. Inoltre, è possibile estenderne le funzionalità tramite estensioni e plugin."
   ]
  },
  {
   "cell_type": "markdown",
   "id": "df2de81c",
   "metadata": {},
   "source": [
    "## Installazione di Jupyter Notebook\n",
    "\n",
    "Esistono diversi modi per installare Jupyter Notebook. I più diffusi sono l'uso di **Anaconda/Miniconda** o l'installazione tramite **pip**:\n",
    "\n",
    "### Installazione tramite Anaconda\n",
    "Anaconda è una distribuzione di Python (e R) che include un gestore di pacchetti (`conda`) e molte librerie scientifiche.\n",
    "1. Scarica l'installer per il tuo sistema operativo dal sito di [Anaconda](https://www.anaconda.com/products/distribution).\n",
    "2. Avvia l'installer e segui le istruzioni; puoi scegliere l'installazione *solo per te* oppure *per tutti gli utenti*.\n",
    "3. Una volta installato, puoi avviare **Anaconda Navigator** e cliccare su **Launch** sotto *Jupyter Notebook*, oppure aprire un terminale e digitare `jupyter notebook`.\n",
    "\n",
    "### Installazione tramite pip\n",
    "Se preferisci un'installazione più leggera o stai utilizzando un ambiente virtuale, puoi usare pip (il gestore di pacchetti di Python). Apri un terminale e digita:\n",
    "```bash\n",
    "pip install notebook\n",
    "```\n",
    "\n",
    "Una volta installato, lancia il notebook con:\n",
    "```bash\n",
    "jupyter notebook\n",
    "```\n",
    "\n",
    "Questo comando apre una finestra del browser con la dashboard dei notebook, da cui puoi creare nuovi file o aprire quelli esistenti."
   ]
  },
  {
   "cell_type": "markdown",
   "id": "0c0ba122",
   "metadata": {},
   "source": [
    "## Avviare un notebook e creare celle\n",
    "\n",
    "Dopo aver installato Jupyter Notebook, apri un terminale e digita `jupyter notebook`. Si aprirà la dashboard nel browser; seleziona *New → Python 3* per creare un nuovo file.\n",
    "\n",
    "All'interno del notebook, il documento è diviso in celle. Ogni cella può essere di tipo **codice** o **Markdown**:\n",
    "- Le *celle di codice* contengono istruzioni Python che vengono eseguite premendo **Shift+Enter** (esegui e passa alla successiva) o **Ctrl+Enter** (esegui e resta nella cella).\n",
    "- Le *celle di testo* (Markdown) contengono descrizioni, formule e liste. Per trasformare una cella in Markdown premi **Esc** seguito da **M**; per tornare a una cella di codice premi **Esc** seguito da **Y**.\n",
    "\n",
    "Puoi aggiungere nuove celle premendo **Esc** quindi **A** (cella sopra) o **B** (cella sotto). Per cancellare una cella premi **Esc** e poi **D** due volte."
   ]
  },
  {
   "cell_type": "code",
   "execution_count": null,
   "id": "96333110",
   "metadata": {},
   "outputs": [
    {
     "ename": "",
     "evalue": "",
     "output_type": "error",
     "traceback": [
      "\u001b[1;31mL'esecuzione di celle con 'Python 3.12.2' richiede il pacchetto ipykernel.\n",
      "\u001b[1;31m<a href='command:jupyter.createPythonEnvAndSelectController'>Crea un ambiente Python</a> con i pacchetti necessari.\n",
      "\u001b[1;31mIn alternativa, installa 'ipykernel' utilizzando il comando: '/usr/local/bin/python3.12 -m pip install ipykernel -U --user --force-reinstall'"
     ]
    }
   ],
   "source": [
    "# Esempio di operazioni matematiche di base\n",
    "a = 10\n",
    "b = 3\n",
    "somma = a + b  # Somma di a e b\n",
    "prodotto = a * b  # Prodotto di a e b\n",
    "divisione = a / b  # Divisione tra a e b\n",
    "\n",
    "print(\"Somma:\", somma)\n",
    "print(\"Prodotto:\", prodotto)\n",
    "print(\"Divisione:\", divisione)\n",
    "\n",
    "# Definire una funzione che stampa un saluto personalizzato\n",
    "def saluta(nome):\n",
    "    \"\"\"Stampa un saluto rivolto alla persona indicata.\"\"\"\n",
    "    print(\"Ciao,\", nome)\n",
    "\n",
    "saluta(\"Studente\")\n"
   ]
  },
  {
   "cell_type": "code",
   "execution_count": null,
   "id": "04389db8",
   "metadata": {},
   "outputs": [],
   "source": [
    "# Importare librerie e utilizzare funzioni utili\n",
    "\n",
    "# Importiamo la libreria math per operazioni matematiche avanzate\n",
    "import math\n",
    "\n",
    "radice = math.sqrt(16)  # Calcola la radice quadrata di 16\n",
    "print(\"Radice quadrata di 16:\", radice)\n",
    "\n",
    "# Importiamo la libreria random per generare numeri casuali\n",
    "import random\n",
    "\n",
    "numero_casuale = random.randint(1, 100)  # Genera un numero intero casuale tra 1 e 100\n",
    "print(\"Numero casuale tra 1 e 100:\", numero_casuale)\n"
   ]
  },
  {
   "cell_type": "markdown",
   "id": "6b2bc16a",
   "metadata": {},
   "source": [
    "## Celle di testo con Markdown e visualizzazione dell'output\n",
    "\n",
    "Le celle di testo usano la sintassi **Markdown**, che permette di formattare il testo con titoli, elenchi, enfasi e formule. Ad esempio, puoi creare un titolo di terzo livello con `### Titolo` oppure un elenco puntato usando l'asterisco o il trattino.\n",
    "\n",
    "Ecco un esempio di cella Markdown che potresti inserire nel tuo notebook:\n",
    "\n",
    "````markdown\n",
    "### Esempio di Markdown\n",
    "\n",
    "- Questo è un elenco puntato\n",
    "- È possibile scrivere in **grassetto** o *corsivo*\n",
    "- Puoi includere formule matematiche con LaTeX, ad esempio: $\\int_0^1 x^2 dx = \f\n",
    "rac{1}{3}$\n",
    "````\n",
    "\n",
    "Le celle di codice producono un **output** appena vengono eseguite. Puoi quindi visualizzare risultati numerici, stringhe, tabelle o grafici direttamente sotto la cella."
   ]
  },
  {
   "cell_type": "markdown",
   "id": "6ac944b2",
   "metadata": {},
   "source": [
    "## Salvare il notebook e scorciatoie utili\n",
    "\n",
    "Per salvare il lavoro premi **Ctrl+S** o vai su *File → Save and Checkpoint*. Jupyter crea automaticamente dei *checkpoint* che ti permettono di ripristinare lo stato precedente del notebook. La funzione di autosalvataggio salva il file ogni pochi minuti.\n",
    "\n",
    "Conoscere alcune scorciatoie da tastiera accelera il tuo flusso di lavoro:\n",
    "\n",
    "- **Shift+Enter:** esegue la cella corrente e passa alla successiva.\n",
    "- **Ctrl+Enter:** esegue la cella corrente senza cambiare selezione.\n",
    "- **Alt+Enter:** esegue la cella e inserisce una nuova cella sottostante.\n",
    "- **Esc → H:** mostra la lista completa delle scorciatoie.\n",
    "- **Esc → A/B:** inserisce una nuova cella rispettivamente sopra (A) o sotto (B).\n",
    "- **Esc → M/Y:** cambia la cella selezionata in Markdown (M) o in codice (Y).\n",
    "- **Esc → D, D:** elimina la cella selezionata.\n",
    "- **Esc → Z:** annulla l'eliminazione di una cella.\n",
    "\n",
    "Sperimenta con queste combinazioni per rendere più efficiente il tuo utilizzo di Jupyter Notebook."
   ]
  }
 ],
 "metadata": {
  "kernelspec": {
   "display_name": "Python 3",
   "language": "python",
   "name": "python3"
  },
  "language_info": {
   "name": "python",
   "version": "3.12.2"
  }
 },
 "nbformat": 4,
 "nbformat_minor": 5
}
